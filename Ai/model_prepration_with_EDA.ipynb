{
 "cells": [
  {
   "attachments": {},
   "cell_type": "markdown",
   "metadata": {},
   "source": [
    "### This file is for:\n",
    "- Data Exploration\n",
    "- Data Cleansing \n",
    "- Data Visualization \n",
    "- Gain insights and building the pipline"
   ]
  },
  {
   "attachments": {},
   "cell_type": "markdown",
   "metadata": {},
   "source": [
    "### needed packages"
   ]
  },
  {
   "cell_type": "code",
   "execution_count": 89,
   "metadata": {},
   "outputs": [],
   "source": [
    "# utilities \n",
    "# needed pacakges for running the model \n",
    "import pandas as pd\n",
    "import numpy as np\n",
    "import tensorflow as tf\n",
    "import sklearn\n",
    "import os\n",
    "import json\n",
    "import matplotlib.pyplot as plt \n",
    "from sklearn.impute import SimpleImputer\n",
    "from sklearn.pipeline import Pipeline\n",
    "from sklearn.compose import ColumnTransformer\n",
    "from sklearn.preprocessing import OneHotEncoder\n",
    "from sklearn.ensemble import RandomForestRegressor\n",
    "from sklearn.model_selection import train_test_split\n",
    "from sklearn.pipeline import make_pipeline\n",
    "from sklearn.compose import make_column_transformer\n",
    "from sklearn.preprocessing import FunctionTransformer\n",
    "from sklearn.base import BaseEstimator, TransformerMixin\n",
    "from sklearn.ensemble import RandomForestRegressor, VotingRegressor, ExtraTreesRegressor, BaggingRegressor\n",
    "from sklearn.metrics import mean_squared_error as mse, mean_absolute_error as mae\n",
    "import joblib\n",
    "from joblib import dump\n",
    "from sklearn.ensemble import RandomForestClassifier\n"
   ]
  },
  {
   "cell_type": "markdown",
   "metadata": {},
   "source": [
    "## Handling data for the model"
   ]
  },
  {
   "cell_type": "code",
   "execution_count": 2,
   "metadata": {},
   "outputs": [
    {
     "data": {
      "text/html": [
       "<div>\n",
       "<style scoped>\n",
       "    .dataframe tbody tr th:only-of-type {\n",
       "        vertical-align: middle;\n",
       "    }\n",
       "\n",
       "    .dataframe tbody tr th {\n",
       "        vertical-align: top;\n",
       "    }\n",
       "\n",
       "    .dataframe thead th {\n",
       "        text-align: right;\n",
       "    }\n",
       "</style>\n",
       "<table border=\"1\" class=\"dataframe\">\n",
       "  <thead>\n",
       "    <tr style=\"text-align: right;\">\n",
       "      <th></th>\n",
       "      <th>time</th>\n",
       "      <th>latitude</th>\n",
       "      <th>longitude</th>\n",
       "      <th>depth</th>\n",
       "      <th>mag</th>\n",
       "      <th>magType</th>\n",
       "      <th>nst</th>\n",
       "      <th>gap</th>\n",
       "      <th>dmin</th>\n",
       "      <th>rms</th>\n",
       "      <th>net</th>\n",
       "      <th>id</th>\n",
       "      <th>updated</th>\n",
       "      <th>place</th>\n",
       "      <th>type</th>\n",
       "      <th>horizontalError</th>\n",
       "      <th>depthError</th>\n",
       "      <th>magError</th>\n",
       "      <th>magNst</th>\n",
       "      <th>status</th>\n",
       "      <th>locationSource</th>\n",
       "      <th>magSource</th>\n",
       "    </tr>\n",
       "  </thead>\n",
       "  <tbody>\n",
       "    <tr>\n",
       "      <th>0</th>\n",
       "      <td>2010-11-09T11:24:23.880Z</td>\n",
       "      <td>26.032</td>\n",
       "      <td>141.935</td>\n",
       "      <td>10.0</td>\n",
       "      <td>4.1</td>\n",
       "      <td>mb</td>\n",
       "      <td>9.0</td>\n",
       "      <td>161.6</td>\n",
       "      <td>NaN</td>\n",
       "      <td>0.86</td>\n",
       "      <td>us</td>\n",
       "      <td>usp000hpap</td>\n",
       "      <td>2014-11-07T01:42:53.405Z</td>\n",
       "      <td>Bonin Islands, Japan region</td>\n",
       "      <td>earthquake</td>\n",
       "      <td>NaN</td>\n",
       "      <td>NaN</td>\n",
       "      <td>NaN</td>\n",
       "      <td>2.0</td>\n",
       "      <td>reviewed</td>\n",
       "      <td>us</td>\n",
       "      <td>us</td>\n",
       "    </tr>\n",
       "    <tr>\n",
       "      <th>1</th>\n",
       "      <td>2010-11-09T16:18:24.100Z</td>\n",
       "      <td>32.980</td>\n",
       "      <td>136.413</td>\n",
       "      <td>435.0</td>\n",
       "      <td>4.3</td>\n",
       "      <td>mb</td>\n",
       "      <td>13.0</td>\n",
       "      <td>155.2</td>\n",
       "      <td>NaN</td>\n",
       "      <td>0.55</td>\n",
       "      <td>us</td>\n",
       "      <td>usp000hpb2</td>\n",
       "      <td>2014-11-07T01:42:53.475Z</td>\n",
       "      <td>92 km SSE of Shing?, Japan</td>\n",
       "      <td>earthquake</td>\n",
       "      <td>NaN</td>\n",
       "      <td>6.9</td>\n",
       "      <td>NaN</td>\n",
       "      <td>7.0</td>\n",
       "      <td>reviewed</td>\n",
       "      <td>us</td>\n",
       "      <td>us</td>\n",
       "    </tr>\n",
       "    <tr>\n",
       "      <th>2</th>\n",
       "      <td>2010-11-11T23:10:45.400Z</td>\n",
       "      <td>42.867</td>\n",
       "      <td>145.389</td>\n",
       "      <td>67.8</td>\n",
       "      <td>4.1</td>\n",
       "      <td>mwr</td>\n",
       "      <td>29.0</td>\n",
       "      <td>93.9</td>\n",
       "      <td>NaN</td>\n",
       "      <td>0.80</td>\n",
       "      <td>us</td>\n",
       "      <td>usp000hped</td>\n",
       "      <td>2014-11-07T01:42:54.013Z</td>\n",
       "      <td>52 km SSW of Nemuro, Japan</td>\n",
       "      <td>earthquake</td>\n",
       "      <td>NaN</td>\n",
       "      <td>9.6</td>\n",
       "      <td>NaN</td>\n",
       "      <td>NaN</td>\n",
       "      <td>reviewed</td>\n",
       "      <td>us</td>\n",
       "      <td>nied</td>\n",
       "    </tr>\n",
       "    <tr>\n",
       "      <th>3</th>\n",
       "      <td>2010-11-12T04:27:18.410Z</td>\n",
       "      <td>29.979</td>\n",
       "      <td>142.867</td>\n",
       "      <td>35.0</td>\n",
       "      <td>4.0</td>\n",
       "      <td>mwr</td>\n",
       "      <td>55.0</td>\n",
       "      <td>58.9</td>\n",
       "      <td>NaN</td>\n",
       "      <td>0.91</td>\n",
       "      <td>us</td>\n",
       "      <td>usp000hpen</td>\n",
       "      <td>2014-11-07T01:42:54.066Z</td>\n",
       "      <td>Izu Islands, Japan region</td>\n",
       "      <td>earthquake</td>\n",
       "      <td>NaN</td>\n",
       "      <td>NaN</td>\n",
       "      <td>NaN</td>\n",
       "      <td>NaN</td>\n",
       "      <td>reviewed</td>\n",
       "      <td>us</td>\n",
       "      <td>nied</td>\n",
       "    </tr>\n",
       "    <tr>\n",
       "      <th>4</th>\n",
       "      <td>2010-11-14T06:10:29.350Z</td>\n",
       "      <td>34.036</td>\n",
       "      <td>141.373</td>\n",
       "      <td>26.8</td>\n",
       "      <td>5.0</td>\n",
       "      <td>mwc</td>\n",
       "      <td>130.0</td>\n",
       "      <td>110.4</td>\n",
       "      <td>NaN</td>\n",
       "      <td>1.09</td>\n",
       "      <td>us</td>\n",
       "      <td>usp000hphy</td>\n",
       "      <td>2016-11-10T02:36:03.996Z</td>\n",
       "      <td>156 km SE of Katsuura, Japan</td>\n",
       "      <td>earthquake</td>\n",
       "      <td>NaN</td>\n",
       "      <td>14.6</td>\n",
       "      <td>NaN</td>\n",
       "      <td>NaN</td>\n",
       "      <td>reviewed</td>\n",
       "      <td>us</td>\n",
       "      <td>gcmt</td>\n",
       "    </tr>\n",
       "  </tbody>\n",
       "</table>\n",
       "</div>"
      ],
      "text/plain": [
       "                       time  latitude  longitude  depth  mag magType    nst  \\\n",
       "0  2010-11-09T11:24:23.880Z    26.032    141.935   10.0  4.1      mb    9.0   \n",
       "1  2010-11-09T16:18:24.100Z    32.980    136.413  435.0  4.3      mb   13.0   \n",
       "2  2010-11-11T23:10:45.400Z    42.867    145.389   67.8  4.1     mwr   29.0   \n",
       "3  2010-11-12T04:27:18.410Z    29.979    142.867   35.0  4.0     mwr   55.0   \n",
       "4  2010-11-14T06:10:29.350Z    34.036    141.373   26.8  5.0     mwc  130.0   \n",
       "\n",
       "     gap  dmin   rms net          id                   updated  \\\n",
       "0  161.6   NaN  0.86  us  usp000hpap  2014-11-07T01:42:53.405Z   \n",
       "1  155.2   NaN  0.55  us  usp000hpb2  2014-11-07T01:42:53.475Z   \n",
       "2   93.9   NaN  0.80  us  usp000hped  2014-11-07T01:42:54.013Z   \n",
       "3   58.9   NaN  0.91  us  usp000hpen  2014-11-07T01:42:54.066Z   \n",
       "4  110.4   NaN  1.09  us  usp000hphy  2016-11-10T02:36:03.996Z   \n",
       "\n",
       "                          place        type  horizontalError  depthError  \\\n",
       "0   Bonin Islands, Japan region  earthquake              NaN         NaN   \n",
       "1    92 km SSE of Shing?, Japan  earthquake              NaN         6.9   \n",
       "2    52 km SSW of Nemuro, Japan  earthquake              NaN         9.6   \n",
       "3     Izu Islands, Japan region  earthquake              NaN         NaN   \n",
       "4  156 km SE of Katsuura, Japan  earthquake              NaN        14.6   \n",
       "\n",
       "   magError  magNst    status locationSource magSource  \n",
       "0       NaN     2.0  reviewed             us        us  \n",
       "1       NaN     7.0  reviewed             us        us  \n",
       "2       NaN     NaN  reviewed             us      nied  \n",
       "3       NaN     NaN  reviewed             us      nied  \n",
       "4       NaN     NaN  reviewed             us      gcmt  "
      ]
     },
     "execution_count": 2,
     "metadata": {},
     "output_type": "execute_result"
    }
   ],
   "source": [
    "# reading Data\n",
    "data_df = pd.read_csv(\"usgs_data.csv\",index_col=False)\n",
    "pd.set_option('display.max_columns', None)\n",
    "data_df.head()"
   ]
  },
  {
   "cell_type": "code",
   "execution_count": 3,
   "metadata": {},
   "outputs": [
    {
     "name": "stdout",
     "output_type": "stream",
     "text": [
      "<class 'pandas.core.frame.DataFrame'>\n",
      "RangeIndex: 18407 entries, 0 to 18406\n",
      "Data columns (total 22 columns):\n",
      " #   Column           Non-Null Count  Dtype  \n",
      "---  ------           --------------  -----  \n",
      " 0   time             18407 non-null  object \n",
      " 1   latitude         18407 non-null  float64\n",
      " 2   longitude        18407 non-null  float64\n",
      " 3   depth            18407 non-null  float64\n",
      " 4   mag              18407 non-null  float64\n",
      " 5   magType          18407 non-null  object \n",
      " 6   nst              9888 non-null   float64\n",
      " 7   gap              18404 non-null  float64\n",
      " 8   dmin             10323 non-null  float64\n",
      " 9   rms              18407 non-null  float64\n",
      " 10  net              18407 non-null  object \n",
      " 11  id               18407 non-null  object \n",
      " 12  updated          18407 non-null  object \n",
      " 13  place            18215 non-null  object \n",
      " 14  type             18407 non-null  object \n",
      " 15  horizontalError  9157 non-null   float64\n",
      " 16  depthError       15300 non-null  float64\n",
      " 17  magError         10165 non-null  float64\n",
      " 18  magNst           17097 non-null  float64\n",
      " 19  status           18407 non-null  object \n",
      " 20  locationSource   18407 non-null  object \n",
      " 21  magSource        18407 non-null  object \n",
      "dtypes: float64(12), object(10)\n",
      "memory usage: 3.1+ MB\n"
     ]
    }
   ],
   "source": [
    "data_df.info()"
   ]
  },
  {
   "cell_type": "code",
   "execution_count": 4,
   "metadata": {},
   "outputs": [
    {
     "data": {
      "text/plain": [
       "array([1878, 1632,  290,  207,  136,   52,   34,   20,   18,   17,   14,\n",
       "         12,   11,   10,    9,    8,    7,    6,    5,    4,    3,    2,\n",
       "          1])"
      ]
     },
     "execution_count": 4,
     "metadata": {},
     "output_type": "execute_result"
    }
   ],
   "source": [
    "data_df['place'].value_counts().unique()"
   ]
  },
  {
   "cell_type": "code",
   "execution_count": 5,
   "metadata": {},
   "outputs": [
    {
     "data": {
      "text/plain": [
       "status\n",
       "reviewed    18407\n",
       "Name: count, dtype: int64"
      ]
     },
     "execution_count": 5,
     "metadata": {},
     "output_type": "execute_result"
    }
   ],
   "source": [
    "data_df['status'].value_counts()"
   ]
  },
  {
   "cell_type": "code",
   "execution_count": 6,
   "metadata": {},
   "outputs": [
    {
     "data": {
      "text/plain": [
       "magSource\n",
       "us          17877\n",
       "gcmt          413\n",
       "nied          116\n",
       "official        1\n",
       "Name: count, dtype: int64"
      ]
     },
     "execution_count": 6,
     "metadata": {},
     "output_type": "execute_result"
    }
   ],
   "source": [
    "data_df['magSource'].value_counts()"
   ]
  },
  {
   "cell_type": "code",
   "execution_count": 7,
   "metadata": {},
   "outputs": [
    {
     "data": {
      "text/html": [
       "<div>\n",
       "<style scoped>\n",
       "    .dataframe tbody tr th:only-of-type {\n",
       "        vertical-align: middle;\n",
       "    }\n",
       "\n",
       "    .dataframe tbody tr th {\n",
       "        vertical-align: top;\n",
       "    }\n",
       "\n",
       "    .dataframe thead th {\n",
       "        text-align: right;\n",
       "    }\n",
       "</style>\n",
       "<table border=\"1\" class=\"dataframe\">\n",
       "  <thead>\n",
       "    <tr style=\"text-align: right;\">\n",
       "      <th></th>\n",
       "      <th>latitude</th>\n",
       "      <th>longitude</th>\n",
       "      <th>depth</th>\n",
       "      <th>mag</th>\n",
       "      <th>nst</th>\n",
       "      <th>gap</th>\n",
       "      <th>dmin</th>\n",
       "      <th>rms</th>\n",
       "      <th>horizontalError</th>\n",
       "      <th>depthError</th>\n",
       "      <th>magError</th>\n",
       "      <th>magNst</th>\n",
       "    </tr>\n",
       "  </thead>\n",
       "  <tbody>\n",
       "    <tr>\n",
       "      <th>count</th>\n",
       "      <td>18407.000000</td>\n",
       "      <td>18407.000000</td>\n",
       "      <td>18407.000000</td>\n",
       "      <td>18407.000000</td>\n",
       "      <td>9888.000000</td>\n",
       "      <td>18404.000000</td>\n",
       "      <td>10323.000000</td>\n",
       "      <td>18407.00000</td>\n",
       "      <td>9157.00000</td>\n",
       "      <td>15300.000000</td>\n",
       "      <td>10165.000000</td>\n",
       "      <td>17097.000000</td>\n",
       "    </tr>\n",
       "    <tr>\n",
       "      <th>mean</th>\n",
       "      <td>35.215285</td>\n",
       "      <td>140.858074</td>\n",
       "      <td>60.132726</td>\n",
       "      <td>4.562541</td>\n",
       "      <td>78.623078</td>\n",
       "      <td>111.959493</td>\n",
       "      <td>1.951676</td>\n",
       "      <td>0.81551</td>\n",
       "      <td>7.44083</td>\n",
       "      <td>7.040844</td>\n",
       "      <td>0.121591</td>\n",
       "      <td>39.134527</td>\n",
       "    </tr>\n",
       "    <tr>\n",
       "      <th>std</th>\n",
       "      <td>4.926419</td>\n",
       "      <td>4.130205</td>\n",
       "      <td>95.151940</td>\n",
       "      <td>0.386556</td>\n",
       "      <td>94.253050</td>\n",
       "      <td>38.590442</td>\n",
       "      <td>1.254057</td>\n",
       "      <td>0.23525</td>\n",
       "      <td>2.35308</td>\n",
       "      <td>5.375419</td>\n",
       "      <td>0.069928</td>\n",
       "      <td>63.211425</td>\n",
       "    </tr>\n",
       "    <tr>\n",
       "      <th>min</th>\n",
       "      <td>24.876200</td>\n",
       "      <td>126.746800</td>\n",
       "      <td>0.000000</td>\n",
       "      <td>2.700000</td>\n",
       "      <td>6.000000</td>\n",
       "      <td>8.000000</td>\n",
       "      <td>0.038000</td>\n",
       "      <td>0.04000</td>\n",
       "      <td>1.40000</td>\n",
       "      <td>0.000000</td>\n",
       "      <td>0.019000</td>\n",
       "      <td>1.000000</td>\n",
       "    </tr>\n",
       "    <tr>\n",
       "      <th>25%</th>\n",
       "      <td>31.137550</td>\n",
       "      <td>140.558750</td>\n",
       "      <td>11.000000</td>\n",
       "      <td>4.300000</td>\n",
       "      <td>25.000000</td>\n",
       "      <td>87.000000</td>\n",
       "      <td>1.087000</td>\n",
       "      <td>0.66000</td>\n",
       "      <td>5.90000</td>\n",
       "      <td>3.500000</td>\n",
       "      <td>0.070000</td>\n",
       "      <td>7.000000</td>\n",
       "    </tr>\n",
       "    <tr>\n",
       "      <th>50%</th>\n",
       "      <td>36.535000</td>\n",
       "      <td>141.953900</td>\n",
       "      <td>35.000000</td>\n",
       "      <td>4.500000</td>\n",
       "      <td>42.000000</td>\n",
       "      <td>119.100000</td>\n",
       "      <td>1.806000</td>\n",
       "      <td>0.80000</td>\n",
       "      <td>7.23000</td>\n",
       "      <td>6.100000</td>\n",
       "      <td>0.107000</td>\n",
       "      <td>16.000000</td>\n",
       "    </tr>\n",
       "    <tr>\n",
       "      <th>75%</th>\n",
       "      <td>38.290050</td>\n",
       "      <td>143.214700</td>\n",
       "      <td>52.984000</td>\n",
       "      <td>4.700000</td>\n",
       "      <td>88.000000</td>\n",
       "      <td>135.400000</td>\n",
       "      <td>2.618000</td>\n",
       "      <td>0.96000</td>\n",
       "      <td>8.70000</td>\n",
       "      <td>8.600000</td>\n",
       "      <td>0.157000</td>\n",
       "      <td>41.000000</td>\n",
       "    </tr>\n",
       "    <tr>\n",
       "      <th>max</th>\n",
       "      <td>48.111200</td>\n",
       "      <td>147.653200</td>\n",
       "      <td>686.390000</td>\n",
       "      <td>9.100000</td>\n",
       "      <td>918.000000</td>\n",
       "      <td>306.000000</td>\n",
       "      <td>33.409000</td>\n",
       "      <td>1.94000</td>\n",
       "      <td>21.70000</td>\n",
       "      <td>62.800000</td>\n",
       "      <td>0.558000</td>\n",
       "      <td>941.000000</td>\n",
       "    </tr>\n",
       "  </tbody>\n",
       "</table>\n",
       "</div>"
      ],
      "text/plain": [
       "           latitude     longitude         depth           mag          nst  \\\n",
       "count  18407.000000  18407.000000  18407.000000  18407.000000  9888.000000   \n",
       "mean      35.215285    140.858074     60.132726      4.562541    78.623078   \n",
       "std        4.926419      4.130205     95.151940      0.386556    94.253050   \n",
       "min       24.876200    126.746800      0.000000      2.700000     6.000000   \n",
       "25%       31.137550    140.558750     11.000000      4.300000    25.000000   \n",
       "50%       36.535000    141.953900     35.000000      4.500000    42.000000   \n",
       "75%       38.290050    143.214700     52.984000      4.700000    88.000000   \n",
       "max       48.111200    147.653200    686.390000      9.100000   918.000000   \n",
       "\n",
       "                gap          dmin          rms  horizontalError    depthError  \\\n",
       "count  18404.000000  10323.000000  18407.00000       9157.00000  15300.000000   \n",
       "mean     111.959493      1.951676      0.81551          7.44083      7.040844   \n",
       "std       38.590442      1.254057      0.23525          2.35308      5.375419   \n",
       "min        8.000000      0.038000      0.04000          1.40000      0.000000   \n",
       "25%       87.000000      1.087000      0.66000          5.90000      3.500000   \n",
       "50%      119.100000      1.806000      0.80000          7.23000      6.100000   \n",
       "75%      135.400000      2.618000      0.96000          8.70000      8.600000   \n",
       "max      306.000000     33.409000      1.94000         21.70000     62.800000   \n",
       "\n",
       "           magError        magNst  \n",
       "count  10165.000000  17097.000000  \n",
       "mean       0.121591     39.134527  \n",
       "std        0.069928     63.211425  \n",
       "min        0.019000      1.000000  \n",
       "25%        0.070000      7.000000  \n",
       "50%        0.107000     16.000000  \n",
       "75%        0.157000     41.000000  \n",
       "max        0.558000    941.000000  "
      ]
     },
     "execution_count": 7,
     "metadata": {},
     "output_type": "execute_result"
    }
   ],
   "source": [
    "data_df.describe()"
   ]
  },
  {
   "cell_type": "code",
   "execution_count": 8,
   "metadata": {},
   "outputs": [
    {
     "data": {
      "text/plain": [
       "time                  0\n",
       "latitude              0\n",
       "longitude             0\n",
       "depth                 0\n",
       "mag                   0\n",
       "magType               0\n",
       "nst                8519\n",
       "gap                   3\n",
       "dmin               8084\n",
       "rms                   0\n",
       "net                   0\n",
       "id                    0\n",
       "updated               0\n",
       "place               192\n",
       "type                  0\n",
       "horizontalError    9250\n",
       "depthError         3107\n",
       "magError           8242\n",
       "magNst             1310\n",
       "status                0\n",
       "locationSource        0\n",
       "magSource             0\n",
       "dtype: int64"
      ]
     },
     "execution_count": 8,
     "metadata": {},
     "output_type": "execute_result"
    }
   ],
   "source": [
    "data_df.isnull().sum()"
   ]
  },
  {
   "cell_type": "markdown",
   "metadata": {},
   "source": [
    "Data visualizaiton"
   ]
  },
  {
   "cell_type": "code",
   "execution_count": 9,
   "metadata": {},
   "outputs": [
    {
     "data": {
      "image/png": "[encoded data removed]",
      "text/plain": [
       "<Figure size 1400x1000 with 12 Axes>"
      ]
     },
     "metadata": {},
     "output_type": "display_data"
    }
   ],
   "source": [
    "# extra code – the next 5 lines define the default font sizes\n",
    "plt.rc('font', size=10)\n",
    "plt.rc('axes', labelsize=10, titlesize=10)\n",
    "plt.rc('legend', fontsize=10)\n",
    "plt.rc('xtick', labelsize=10)\n",
    "plt.rc('ytick', labelsize=10)\n",
    "\n",
    "data_df.drop(columns=[]).hist(bins=40, figsize=(14, 10))\n",
    "#save_fig(\"attribute_histogram_plots\")  # extra code\n",
    "plt.show()"
   ]
  },
  {
   "cell_type": "code",
   "execution_count": 10,
   "metadata": {},
   "outputs": [
    {
     "data": {
      "text/plain": [
       "count    18404.000000\n",
       "mean       111.959493\n",
       "std         38.590442\n",
       "min          8.000000\n",
       "25%         87.000000\n",
       "50%        119.100000\n",
       "75%        135.400000\n",
       "max        306.000000\n",
       "Name: gap, dtype: float64"
      ]
     },
     "execution_count": 10,
     "metadata": {},
     "output_type": "execute_result"
    }
   ],
   "source": [
    "data_df.gap.describe()"
   ]
  },
  {
   "cell_type": "code",
   "execution_count": 11,
   "metadata": {},
   "outputs": [],
   "source": [
    "# actions to be taken - output of the EDA process\n",
    "#================\n",
    "# delete the rms larger than  1\n",
    "# check outlier in the depth \n",
    "# check outlier in the mag \n",
    "# check outlier in the nst\n",
    "#================\n",
    "# columns to drop\n",
    "# place drop - gap drop \n",
    "# ==============\n",
    "# imputation : \n",
    "# by mean ==\n",
    "# magError - mean\n",
    "# depthError : mean\n",
    "# horizontalError : mean\n",
    "# ===== \n",
    "# by median ==\n",
    "# nst and magNst : median\n",
    "# dmin : median\n",
    "# =============="
   ]
  },
  {
   "cell_type": "markdown",
   "metadata": {},
   "source": [
    "### Data Cleansing "
   ]
  },
  {
   "cell_type": "code",
   "execution_count": 12,
   "metadata": {},
   "outputs": [
    {
     "data": {
      "text/plain": [
       "Index(['latitude', 'longitude', 'depth', 'mag', 'magType', 'nst', 'gap',\n",
       "       'dmin', 'rms', 'horizontalError', 'depthError', 'magError', 'magNst',\n",
       "       'magSource'],\n",
       "      dtype='object')"
      ]
     },
     "execution_count": 12,
     "metadata": {},
     "output_type": "execute_result"
    }
   ],
   "source": [
    "data_df2 = data_df.drop(columns=[\"id\",\"net\",\"locationSource\",\"status\",\"updated\",\"type\",\"time\",\"place\"])\n",
    "data_df2.columns"
   ]
  },
  {
   "cell_type": "code",
   "execution_count": 13,
   "metadata": {},
   "outputs": [
    {
     "name": "stdout",
     "output_type": "stream",
     "text": [
      "<class 'pandas.core.frame.DataFrame'>\n",
      "RangeIndex: 18407 entries, 0 to 18406\n",
      "Data columns (total 14 columns):\n",
      " #   Column           Non-Null Count  Dtype  \n",
      "---  ------           --------------  -----  \n",
      " 0   latitude         18407 non-null  float64\n",
      " 1   longitude        18407 non-null  float64\n",
      " 2   depth            18407 non-null  float64\n",
      " 3   mag              18407 non-null  float64\n",
      " 4   magType          18407 non-null  object \n",
      " 5   nst              9888 non-null   float64\n",
      " 6   gap              18404 non-null  float64\n",
      " 7   dmin             10323 non-null  float64\n",
      " 8   rms              18407 non-null  float64\n",
      " 9   horizontalError  9157 non-null   float64\n",
      " 10  depthError       15300 non-null  float64\n",
      " 11  magError         10165 non-null  float64\n",
      " 12  magNst           17097 non-null  float64\n",
      " 13  magSource        18407 non-null  object \n",
      "dtypes: float64(12), object(2)\n",
      "memory usage: 2.0+ MB\n"
     ]
    }
   ],
   "source": [
    "data_df2.info()"
   ]
  },
  {
   "cell_type": "code",
   "execution_count": 14,
   "metadata": {},
   "outputs": [],
   "source": [
    "df = data_df2"
   ]
  },
  {
   "cell_type": "code",
   "execution_count": 15,
   "metadata": {},
   "outputs": [
    {
     "data": {
      "text/html": [
       "<div>\n",
       "<style scoped>\n",
       "    .dataframe tbody tr th:only-of-type {\n",
       "        vertical-align: middle;\n",
       "    }\n",
       "\n",
       "    .dataframe tbody tr th {\n",
       "        vertical-align: top;\n",
       "    }\n",
       "\n",
       "    .dataframe thead th {\n",
       "        text-align: right;\n",
       "    }\n",
       "</style>\n",
       "<table border=\"1\" class=\"dataframe\">\n",
       "  <thead>\n",
       "    <tr style=\"text-align: right;\">\n",
       "      <th></th>\n",
       "      <th>latitude</th>\n",
       "      <th>longitude</th>\n",
       "      <th>depth</th>\n",
       "      <th>mag</th>\n",
       "      <th>magType</th>\n",
       "      <th>nst</th>\n",
       "      <th>gap</th>\n",
       "      <th>dmin</th>\n",
       "      <th>rms</th>\n",
       "      <th>horizontalError</th>\n",
       "      <th>depthError</th>\n",
       "      <th>magError</th>\n",
       "      <th>magNst</th>\n",
       "      <th>magSource</th>\n",
       "    </tr>\n",
       "  </thead>\n",
       "  <tbody>\n",
       "    <tr>\n",
       "      <th>0</th>\n",
       "      <td>26.032</td>\n",
       "      <td>141.935</td>\n",
       "      <td>10.0</td>\n",
       "      <td>4.1</td>\n",
       "      <td>mb</td>\n",
       "      <td>9.0</td>\n",
       "      <td>161.6</td>\n",
       "      <td>NaN</td>\n",
       "      <td>0.86</td>\n",
       "      <td>NaN</td>\n",
       "      <td>NaN</td>\n",
       "      <td>NaN</td>\n",
       "      <td>2.0</td>\n",
       "      <td>us</td>\n",
       "    </tr>\n",
       "    <tr>\n",
       "      <th>1</th>\n",
       "      <td>32.980</td>\n",
       "      <td>136.413</td>\n",
       "      <td>435.0</td>\n",
       "      <td>4.3</td>\n",
       "      <td>mb</td>\n",
       "      <td>13.0</td>\n",
       "      <td>155.2</td>\n",
       "      <td>NaN</td>\n",
       "      <td>0.55</td>\n",
       "      <td>NaN</td>\n",
       "      <td>6.9</td>\n",
       "      <td>NaN</td>\n",
       "      <td>7.0</td>\n",
       "      <td>us</td>\n",
       "    </tr>\n",
       "    <tr>\n",
       "      <th>2</th>\n",
       "      <td>42.867</td>\n",
       "      <td>145.389</td>\n",
       "      <td>67.8</td>\n",
       "      <td>4.1</td>\n",
       "      <td>mwr</td>\n",
       "      <td>29.0</td>\n",
       "      <td>93.9</td>\n",
       "      <td>NaN</td>\n",
       "      <td>0.80</td>\n",
       "      <td>NaN</td>\n",
       "      <td>9.6</td>\n",
       "      <td>NaN</td>\n",
       "      <td>NaN</td>\n",
       "      <td>nied</td>\n",
       "    </tr>\n",
       "    <tr>\n",
       "      <th>3</th>\n",
       "      <td>29.979</td>\n",
       "      <td>142.867</td>\n",
       "      <td>35.0</td>\n",
       "      <td>4.0</td>\n",
       "      <td>mwr</td>\n",
       "      <td>55.0</td>\n",
       "      <td>58.9</td>\n",
       "      <td>NaN</td>\n",
       "      <td>0.91</td>\n",
       "      <td>NaN</td>\n",
       "      <td>NaN</td>\n",
       "      <td>NaN</td>\n",
       "      <td>NaN</td>\n",
       "      <td>nied</td>\n",
       "    </tr>\n",
       "    <tr>\n",
       "      <th>4</th>\n",
       "      <td>34.036</td>\n",
       "      <td>141.373</td>\n",
       "      <td>26.8</td>\n",
       "      <td>5.0</td>\n",
       "      <td>mwc</td>\n",
       "      <td>130.0</td>\n",
       "      <td>110.4</td>\n",
       "      <td>NaN</td>\n",
       "      <td>1.09</td>\n",
       "      <td>NaN</td>\n",
       "      <td>14.6</td>\n",
       "      <td>NaN</td>\n",
       "      <td>NaN</td>\n",
       "      <td>gcmt</td>\n",
       "    </tr>\n",
       "  </tbody>\n",
       "</table>\n",
       "</div>"
      ],
      "text/plain": [
       "   latitude  longitude  depth  mag magType    nst    gap  dmin   rms  \\\n",
       "0    26.032    141.935   10.0  4.1      mb    9.0  161.6   NaN  0.86   \n",
       "1    32.980    136.413  435.0  4.3      mb   13.0  155.2   NaN  0.55   \n",
       "2    42.867    145.389   67.8  4.1     mwr   29.0   93.9   NaN  0.80   \n",
       "3    29.979    142.867   35.0  4.0     mwr   55.0   58.9   NaN  0.91   \n",
       "4    34.036    141.373   26.8  5.0     mwc  130.0  110.4   NaN  1.09   \n",
       "\n",
       "   horizontalError  depthError  magError  magNst magSource  \n",
       "0              NaN         NaN       NaN     2.0        us  \n",
       "1              NaN         6.9       NaN     7.0        us  \n",
       "2              NaN         9.6       NaN     NaN      nied  \n",
       "3              NaN         NaN       NaN     NaN      nied  \n",
       "4              NaN        14.6       NaN     NaN      gcmt  "
      ]
     },
     "execution_count": 15,
     "metadata": {},
     "output_type": "execute_result"
    }
   ],
   "source": [
    "df.head()"
   ]
  },
  {
   "cell_type": "code",
   "execution_count": 16,
   "metadata": {},
   "outputs": [
    {
     "name": "stdout",
     "output_type": "stream",
     "text": [
      "<class 'pandas.core.frame.DataFrame'>\n",
      "RangeIndex: 18407 entries, 0 to 18406\n",
      "Data columns (total 14 columns):\n",
      " #   Column           Non-Null Count  Dtype  \n",
      "---  ------           --------------  -----  \n",
      " 0   latitude         18407 non-null  float64\n",
      " 1   longitude        18407 non-null  float64\n",
      " 2   depth            18407 non-null  float64\n",
      " 3   mag              18407 non-null  float64\n",
      " 4   magType          18407 non-null  object \n",
      " 5   nst              9888 non-null   float64\n",
      " 6   gap              18404 non-null  float64\n",
      " 7   dmin             10323 non-null  float64\n",
      " 8   rms              18407 non-null  float64\n",
      " 9   horizontalError  9157 non-null   float64\n",
      " 10  depthError       15300 non-null  float64\n",
      " 11  magError         10165 non-null  float64\n",
      " 12  magNst           17097 non-null  float64\n",
      " 13  magSource        18407 non-null  object \n",
      "dtypes: float64(12), object(2)\n",
      "memory usage: 2.0+ MB\n"
     ]
    }
   ],
   "source": [
    "df.info()"
   ]
  },
  {
   "attachments": {},
   "cell_type": "markdown",
   "metadata": {},
   "source": [
    "### Data processing and Pipeline"
   ]
  },
  {
   "cell_type": "markdown",
   "metadata": {},
   "source": [
    "dealing with the skeweed data "
   ]
  },
  {
   "cell_type": "code",
   "execution_count": null,
   "metadata": {},
   "outputs": [],
   "source": [
    "# class handle_skewed_to_log(BaseEstimator,TransformerMixin):\n",
    "#     def fit(self,x, y =None):\n",
    "#         return self \n",
    "#     def transform(self,X):\n",
    "#         return np.log(X)\n",
    "# class handle_range (BaseEstimator,TransformerMixin):\n",
    "#     def fit(self,x, y=None):\n",
    "#         return self\n",
    "#     def transform(self,X):\n",
    "#         #masking values more than one and setting it to one \n",
    "#         return X[X['rms']>=1] == 1 \n"
   ]
  },
  {
   "cell_type": "code",
   "execution_count": 24,
   "metadata": {},
   "outputs": [
    {
     "data": {
      "text/plain": [
       "latitude              0\n",
       "longitude             0\n",
       "depth                 0\n",
       "mag                   0\n",
       "magType               0\n",
       "nst                8519\n",
       "gap                   3\n",
       "dmin               8084\n",
       "rms                   0\n",
       "horizontalError    9250\n",
       "depthError         3107\n",
       "magError           8242\n",
       "magNst             1310\n",
       "magSource             0\n",
       "dtype: int64"
      ]
     },
     "execution_count": 24,
     "metadata": {},
     "output_type": "execute_result"
    }
   ],
   "source": [
    "# handling the nan values \n",
    "df.isna().sum()"
   ]
  },
  {
   "cell_type": "code",
   "execution_count": 26,
   "metadata": {},
   "outputs": [],
   "source": [
    "# small nan values in gap -- drop them\n",
    "df_g = df.dropna(subset=['gap'])"
   ]
  },
  {
   "cell_type": "code",
   "execution_count": 28,
   "metadata": {},
   "outputs": [
    {
     "data": {
      "text/plain": [
       "(18404, 14)"
      ]
     },
     "execution_count": 28,
     "metadata": {},
     "output_type": "execute_result"
    }
   ],
   "source": [
    "df_g.shape"
   ]
  },
  {
   "cell_type": "code",
   "execution_count": 29,
   "metadata": {},
   "outputs": [
    {
     "data": {
      "text/plain": [
       "(18407, 14)"
      ]
     },
     "execution_count": 29,
     "metadata": {},
     "output_type": "execute_result"
    }
   ],
   "source": [
    "df.shape"
   ]
  },
  {
   "cell_type": "code",
   "execution_count": 32,
   "metadata": {},
   "outputs": [
    {
     "data": {
      "text/plain": [
       "latitude              0\n",
       "longitude             0\n",
       "depth                 0\n",
       "mag                   0\n",
       "magType               0\n",
       "nst                8517\n",
       "gap                   0\n",
       "dmin               8081\n",
       "rms                   0\n",
       "horizontalError    9249\n",
       "depthError         3107\n",
       "magError           8241\n",
       "magNst             1309\n",
       "magSource             0\n",
       "dtype: int64"
      ]
     },
     "execution_count": 32,
     "metadata": {},
     "output_type": "execute_result"
    }
   ],
   "source": [
    "df_g.isna().sum()"
   ]
  },
  {
   "cell_type": "code",
   "execution_count": 33,
   "metadata": {},
   "outputs": [],
   "source": [
    "#ready to impute using the pipline and output a clean dataframe\n",
    "#apply value transformation on the data and handle the skewed data \n",
    "# there is also another approach that is the dummy model have good results on the given data without applying the transformation"
   ]
  },
  {
   "cell_type": "code",
   "execution_count": 56,
   "metadata": {},
   "outputs": [],
   "source": [
    "# Custom transformer for removing outliers in \"rms\"\n",
    "# if it work we will use another one to take the log for some data columns\n",
    "# class RemoveRMSOutliers(BaseEstimator, TransformerMixin):\n",
    "#     def fit(self, X, y=None):\n",
    "#         return self\n",
    "\n",
    "#     def transform(self, X):\n",
    "#         return X[X['rms'] <= 1]\n",
    "\n",
    "\n",
    "# Create a pipeline with the custom transformer and other transformers\n",
    "pipeline = Pipeline([\n",
    "    ('preprocessor', ColumnTransformer(\n",
    "        transformers=[\n",
    "            ('impute_mean', SimpleImputer(strategy='mean'), ['magError', 'horizontalError', 'depthError']),\n",
    "            ('impute_median', SimpleImputer(strategy='median'), ['nst', 'magNst']),\n",
    "            ('impute_constant',SimpleImputer(strategy=\"constant\", fill_value=0),['dmin']),\n",
    "            ('one_hot_encode', OneHotEncoder(handle_unknown='ignore'), ['magSource', 'magType'])\n",
    "        ],\n",
    "        remainder='passthrough'\n",
    "    ))\n",
    "])\n",
    "prepared_frame = pipeline.fit_transform(df_g)\n",
    "# Get the column names after transformation\n",
    "transformed_columns = (\n",
    "    pipeline.named_steps['preprocessor']\n",
    "    .get_feature_names_out(input_features=df_g.columns)\n",
    ")\n",
    "\n",
    "# Convert the transformed data to a DataFrame\n",
    "df_g_transformed = pd.DataFrame(prepared_frame, columns=transformed_columns)\n"
   ]
  },
  {
   "cell_type": "code",
   "execution_count": 57,
   "metadata": {},
   "outputs": [],
   "source": [
    "# Extract features (X) and target variable (y)\n",
    "X = df_g_transformed.drop(columns=['remainder__mag'])  # Features\n",
    "y = df_g_transformed['remainder__mag']  # Target variable"
   ]
  },
  {
   "cell_type": "code",
   "execution_count": 64,
   "metadata": {},
   "outputs": [
    {
     "data": {
      "text/html": [
       "<div>\n",
       "<style scoped>\n",
       "    .dataframe tbody tr th:only-of-type {\n",
       "        vertical-align: middle;\n",
       "    }\n",
       "\n",
       "    .dataframe tbody tr th {\n",
       "        vertical-align: top;\n",
       "    }\n",
       "\n",
       "    .dataframe thead th {\n",
       "        text-align: right;\n",
       "    }\n",
       "</style>\n",
       "<table border=\"1\" class=\"dataframe\">\n",
       "  <thead>\n",
       "    <tr style=\"text-align: right;\">\n",
       "      <th></th>\n",
       "      <th>impute_mean__magError</th>\n",
       "      <th>impute_mean__horizontalError</th>\n",
       "      <th>impute_mean__depthError</th>\n",
       "      <th>impute_median__nst</th>\n",
       "      <th>impute_median__magNst</th>\n",
       "      <th>impute_constant__dmin</th>\n",
       "      <th>one_hot_encode__magSource_gcmt</th>\n",
       "      <th>one_hot_encode__magSource_nied</th>\n",
       "      <th>one_hot_encode__magSource_official</th>\n",
       "      <th>one_hot_encode__magSource_us</th>\n",
       "      <th>one_hot_encode__magType_mb</th>\n",
       "      <th>one_hot_encode__magType_mb_lg</th>\n",
       "      <th>one_hot_encode__magType_ml</th>\n",
       "      <th>one_hot_encode__magType_ms</th>\n",
       "      <th>one_hot_encode__magType_mwb</th>\n",
       "      <th>one_hot_encode__magType_mwc</th>\n",
       "      <th>one_hot_encode__magType_mwr</th>\n",
       "      <th>one_hot_encode__magType_mww</th>\n",
       "      <th>remainder__latitude</th>\n",
       "      <th>remainder__longitude</th>\n",
       "      <th>remainder__depth</th>\n",
       "      <th>remainder__gap</th>\n",
       "      <th>remainder__rms</th>\n",
       "    </tr>\n",
       "  </thead>\n",
       "  <tbody>\n",
       "    <tr>\n",
       "      <th>0</th>\n",
       "      <td>0.121595</td>\n",
       "      <td>7.44085</td>\n",
       "      <td>7.04129</td>\n",
       "      <td>9.0</td>\n",
       "      <td>2.0</td>\n",
       "      <td>0.0</td>\n",
       "      <td>0.0</td>\n",
       "      <td>0.0</td>\n",
       "      <td>0.0</td>\n",
       "      <td>1.0</td>\n",
       "      <td>1.0</td>\n",
       "      <td>0.0</td>\n",
       "      <td>0.0</td>\n",
       "      <td>0.0</td>\n",
       "      <td>0.0</td>\n",
       "      <td>0.0</td>\n",
       "      <td>0.0</td>\n",
       "      <td>0.0</td>\n",
       "      <td>26.032</td>\n",
       "      <td>141.935</td>\n",
       "      <td>10.0</td>\n",
       "      <td>161.6</td>\n",
       "      <td>0.86</td>\n",
       "    </tr>\n",
       "    <tr>\n",
       "      <th>1</th>\n",
       "      <td>0.121595</td>\n",
       "      <td>7.44085</td>\n",
       "      <td>6.90000</td>\n",
       "      <td>13.0</td>\n",
       "      <td>7.0</td>\n",
       "      <td>0.0</td>\n",
       "      <td>0.0</td>\n",
       "      <td>0.0</td>\n",
       "      <td>0.0</td>\n",
       "      <td>1.0</td>\n",
       "      <td>1.0</td>\n",
       "      <td>0.0</td>\n",
       "      <td>0.0</td>\n",
       "      <td>0.0</td>\n",
       "      <td>0.0</td>\n",
       "      <td>0.0</td>\n",
       "      <td>0.0</td>\n",
       "      <td>0.0</td>\n",
       "      <td>32.980</td>\n",
       "      <td>136.413</td>\n",
       "      <td>435.0</td>\n",
       "      <td>155.2</td>\n",
       "      <td>0.55</td>\n",
       "    </tr>\n",
       "    <tr>\n",
       "      <th>2</th>\n",
       "      <td>0.121595</td>\n",
       "      <td>7.44085</td>\n",
       "      <td>9.60000</td>\n",
       "      <td>29.0</td>\n",
       "      <td>16.0</td>\n",
       "      <td>0.0</td>\n",
       "      <td>0.0</td>\n",
       "      <td>1.0</td>\n",
       "      <td>0.0</td>\n",
       "      <td>0.0</td>\n",
       "      <td>0.0</td>\n",
       "      <td>0.0</td>\n",
       "      <td>0.0</td>\n",
       "      <td>0.0</td>\n",
       "      <td>0.0</td>\n",
       "      <td>0.0</td>\n",
       "      <td>1.0</td>\n",
       "      <td>0.0</td>\n",
       "      <td>42.867</td>\n",
       "      <td>145.389</td>\n",
       "      <td>67.8</td>\n",
       "      <td>93.9</td>\n",
       "      <td>0.80</td>\n",
       "    </tr>\n",
       "    <tr>\n",
       "      <th>3</th>\n",
       "      <td>0.121595</td>\n",
       "      <td>7.44085</td>\n",
       "      <td>7.04129</td>\n",
       "      <td>55.0</td>\n",
       "      <td>16.0</td>\n",
       "      <td>0.0</td>\n",
       "      <td>0.0</td>\n",
       "      <td>1.0</td>\n",
       "      <td>0.0</td>\n",
       "      <td>0.0</td>\n",
       "      <td>0.0</td>\n",
       "      <td>0.0</td>\n",
       "      <td>0.0</td>\n",
       "      <td>0.0</td>\n",
       "      <td>0.0</td>\n",
       "      <td>0.0</td>\n",
       "      <td>1.0</td>\n",
       "      <td>0.0</td>\n",
       "      <td>29.979</td>\n",
       "      <td>142.867</td>\n",
       "      <td>35.0</td>\n",
       "      <td>58.9</td>\n",
       "      <td>0.91</td>\n",
       "    </tr>\n",
       "    <tr>\n",
       "      <th>4</th>\n",
       "      <td>0.121595</td>\n",
       "      <td>7.44085</td>\n",
       "      <td>14.60000</td>\n",
       "      <td>130.0</td>\n",
       "      <td>16.0</td>\n",
       "      <td>0.0</td>\n",
       "      <td>1.0</td>\n",
       "      <td>0.0</td>\n",
       "      <td>0.0</td>\n",
       "      <td>0.0</td>\n",
       "      <td>0.0</td>\n",
       "      <td>0.0</td>\n",
       "      <td>0.0</td>\n",
       "      <td>0.0</td>\n",
       "      <td>0.0</td>\n",
       "      <td>1.0</td>\n",
       "      <td>0.0</td>\n",
       "      <td>0.0</td>\n",
       "      <td>34.036</td>\n",
       "      <td>141.373</td>\n",
       "      <td>26.8</td>\n",
       "      <td>110.4</td>\n",
       "      <td>1.09</td>\n",
       "    </tr>\n",
       "  </tbody>\n",
       "</table>\n",
       "</div>"
      ],
      "text/plain": [
       "   impute_mean__magError  impute_mean__horizontalError  \\\n",
       "0               0.121595                       7.44085   \n",
       "1               0.121595                       7.44085   \n",
       "2               0.121595                       7.44085   \n",
       "3               0.121595                       7.44085   \n",
       "4               0.121595                       7.44085   \n",
       "\n",
       "   impute_mean__depthError  impute_median__nst  impute_median__magNst  \\\n",
       "0                  7.04129                 9.0                    2.0   \n",
       "1                  6.90000                13.0                    7.0   \n",
       "2                  9.60000                29.0                   16.0   \n",
       "3                  7.04129                55.0                   16.0   \n",
       "4                 14.60000               130.0                   16.0   \n",
       "\n",
       "   impute_constant__dmin  one_hot_encode__magSource_gcmt  \\\n",
       "0                    0.0                             0.0   \n",
       "1                    0.0                             0.0   \n",
       "2                    0.0                             0.0   \n",
       "3                    0.0                             0.0   \n",
       "4                    0.0                             1.0   \n",
       "\n",
       "   one_hot_encode__magSource_nied  one_hot_encode__magSource_official  \\\n",
       "0                             0.0                                 0.0   \n",
       "1                             0.0                                 0.0   \n",
       "2                             1.0                                 0.0   \n",
       "3                             1.0                                 0.0   \n",
       "4                             0.0                                 0.0   \n",
       "\n",
       "   one_hot_encode__magSource_us  one_hot_encode__magType_mb  \\\n",
       "0                           1.0                         1.0   \n",
       "1                           1.0                         1.0   \n",
       "2                           0.0                         0.0   \n",
       "3                           0.0                         0.0   \n",
       "4                           0.0                         0.0   \n",
       "\n",
       "   one_hot_encode__magType_mb_lg  one_hot_encode__magType_ml  \\\n",
       "0                            0.0                         0.0   \n",
       "1                            0.0                         0.0   \n",
       "2                            0.0                         0.0   \n",
       "3                            0.0                         0.0   \n",
       "4                            0.0                         0.0   \n",
       "\n",
       "   one_hot_encode__magType_ms  one_hot_encode__magType_mwb  \\\n",
       "0                         0.0                          0.0   \n",
       "1                         0.0                          0.0   \n",
       "2                         0.0                          0.0   \n",
       "3                         0.0                          0.0   \n",
       "4                         0.0                          0.0   \n",
       "\n",
       "   one_hot_encode__magType_mwc  one_hot_encode__magType_mwr  \\\n",
       "0                          0.0                          0.0   \n",
       "1                          0.0                          0.0   \n",
       "2                          0.0                          1.0   \n",
       "3                          0.0                          1.0   \n",
       "4                          1.0                          0.0   \n",
       "\n",
       "   one_hot_encode__magType_mww  remainder__latitude  remainder__longitude  \\\n",
       "0                          0.0               26.032               141.935   \n",
       "1                          0.0               32.980               136.413   \n",
       "2                          0.0               42.867               145.389   \n",
       "3                          0.0               29.979               142.867   \n",
       "4                          0.0               34.036               141.373   \n",
       "\n",
       "   remainder__depth  remainder__gap  remainder__rms  \n",
       "0              10.0           161.6            0.86  \n",
       "1             435.0           155.2            0.55  \n",
       "2              67.8            93.9            0.80  \n",
       "3              35.0            58.9            0.91  \n",
       "4              26.8           110.4            1.09  "
      ]
     },
     "execution_count": 64,
     "metadata": {},
     "output_type": "execute_result"
    }
   ],
   "source": [
    "X.head()"
   ]
  },
  {
   "cell_type": "code",
   "execution_count": 67,
   "metadata": {},
   "outputs": [
    {
     "data": {
      "text/plain": [
       "(18404, 14)"
      ]
     },
     "execution_count": 67,
     "metadata": {},
     "output_type": "execute_result"
    }
   ],
   "source": [
    "df_g.shape"
   ]
  },
  {
   "cell_type": "code",
   "execution_count": 66,
   "metadata": {},
   "outputs": [
    {
     "name": "stdout",
     "output_type": "stream",
     "text": [
      "the shape of X is (18404, 23)\n",
      "the shape of y is (18404,)\n"
     ]
    }
   ],
   "source": [
    "print(f\"the shape of X is {X.shape}\")\n",
    "print(f\"the shape of y is {y.shape}\")"
   ]
  },
  {
   "cell_type": "code",
   "execution_count": 65,
   "metadata": {},
   "outputs": [
    {
     "name": "stdout",
     "output_type": "stream",
     "text": [
      "nan values after pipe: 0\n"
     ]
    }
   ],
   "source": [
    "nan_values_after_pipe = np.sum(np.isnan(prepared_frame))\n",
    "print(\"nan values after pipe: \"+str(nan_values_after_pipe))"
   ]
  },
  {
   "cell_type": "code",
   "execution_count": 68,
   "metadata": {},
   "outputs": [],
   "source": [
    "reg = VotingRegressor([\n",
    "    (\"forest\", RandomForestRegressor(random_state = 42, n_estimators = 145)),\n",
    "    (\"extra\", ExtraTreesRegressor(random_state = 42, n_estimators = 140)),\n",
    "])"
   ]
  },
  {
   "cell_type": "code",
   "execution_count": 69,
   "metadata": {},
   "outputs": [],
   "source": [
    "# Split the data into training and testing sets\n",
    "X_train, X_test, y_train, y_test = train_test_split(X, y, test_size=0.2, random_state=42)\n"
   ]
  },
  {
   "cell_type": "code",
   "execution_count": 71,
   "metadata": {},
   "outputs": [],
   "source": [
    "tree_model = reg.fit(X_train, y_train)"
   ]
  },
  {
   "cell_type": "code",
   "execution_count": 72,
   "metadata": {},
   "outputs": [],
   "source": [
    "#prediction\n",
    "train_pred = tree_model.predict(X_train)"
   ]
  },
  {
   "cell_type": "code",
   "execution_count": 73,
   "metadata": {},
   "outputs": [
    {
     "name": "stdout",
     "output_type": "stream",
     "text": [
      "The follwing is model performance on the training data\n",
      "\n",
      "first one is the MAE\n",
      "second is MSE \n",
      "third is RMSE\n",
      "0.025899612850641886\n",
      "0.0013471998118565855\n",
      "0.03670422062728734\n"
     ]
    }
   ],
   "source": [
    "print(\"The follwing is model performance on the training data\")\n",
    "print(\"\\nfirst one is the MAE\\nsecond is MSE \\nthird is RMSE\")\n",
    "print(mae(y_train, train_pred))\n",
    "print(mse(y_train, train_pred))\n",
    "print(np.sqrt(mse(y_train, train_pred)))"
   ]
  },
  {
   "cell_type": "code",
   "execution_count": 74,
   "metadata": {},
   "outputs": [
    {
     "name": "stdout",
     "output_type": "stream",
     "text": [
      "r2 score is 0.9909718299743652\n"
     ]
    }
   ],
   "source": [
    "#testing accuracy metric\n",
    "from sklearn.metrics import r2_score\n",
    "# Calculate R^2 score\n",
    "r2 = r2_score(y_train, train_pred)\n",
    "print(f\"r2 score is {r2}\")\n"
   ]
  },
  {
   "cell_type": "code",
   "execution_count": 75,
   "metadata": {},
   "outputs": [],
   "source": [
    "# testing the result on the test set \n",
    "test_pred = tree_model.predict(X_test)"
   ]
  },
  {
   "cell_type": "code",
   "execution_count": 76,
   "metadata": {},
   "outputs": [
    {
     "name": "stdout",
     "output_type": "stream",
     "text": [
      "r2 score is 0.7476838577313727\n"
     ]
    }
   ],
   "source": [
    "r2 = r2_score(y_test, test_pred)\n",
    "print(f\"r2 score is {r2}\")"
   ]
  },
  {
   "cell_type": "code",
   "execution_count": 77,
   "metadata": {},
   "outputs": [
    {
     "name": "stdout",
     "output_type": "stream",
     "text": [
      "0.03786294250171845\n",
      "0.19458402427156873\n"
     ]
    }
   ],
   "source": [
    "print(mse(y_test, test_pred))\n",
    "print(np.sqrt(mse(y_test, test_pred)))"
   ]
  },
  {
   "cell_type": "code",
   "execution_count": 80,
   "metadata": {},
   "outputs": [
    {
     "data": {
      "text/html": [
       "<div>\n",
       "<style scoped>\n",
       "    .dataframe tbody tr th:only-of-type {\n",
       "        vertical-align: middle;\n",
       "    }\n",
       "\n",
       "    .dataframe tbody tr th {\n",
       "        vertical-align: top;\n",
       "    }\n",
       "\n",
       "    .dataframe thead th {\n",
       "        text-align: right;\n",
       "    }\n",
       "</style>\n",
       "<table border=\"1\" class=\"dataframe\">\n",
       "  <thead>\n",
       "    <tr style=\"text-align: right;\">\n",
       "      <th></th>\n",
       "      <th>impute_mean__magError</th>\n",
       "      <th>impute_mean__horizontalError</th>\n",
       "      <th>impute_mean__depthError</th>\n",
       "      <th>impute_median__nst</th>\n",
       "      <th>impute_median__magNst</th>\n",
       "      <th>impute_constant__dmin</th>\n",
       "      <th>one_hot_encode__magSource_gcmt</th>\n",
       "      <th>one_hot_encode__magSource_nied</th>\n",
       "      <th>one_hot_encode__magSource_official</th>\n",
       "      <th>one_hot_encode__magSource_us</th>\n",
       "      <th>one_hot_encode__magType_mb</th>\n",
       "      <th>one_hot_encode__magType_mb_lg</th>\n",
       "      <th>one_hot_encode__magType_ml</th>\n",
       "      <th>one_hot_encode__magType_ms</th>\n",
       "      <th>one_hot_encode__magType_mwb</th>\n",
       "      <th>one_hot_encode__magType_mwc</th>\n",
       "      <th>one_hot_encode__magType_mwr</th>\n",
       "      <th>one_hot_encode__magType_mww</th>\n",
       "      <th>remainder__latitude</th>\n",
       "      <th>remainder__longitude</th>\n",
       "      <th>remainder__depth</th>\n",
       "      <th>remainder__gap</th>\n",
       "      <th>remainder__rms</th>\n",
       "    </tr>\n",
       "  </thead>\n",
       "  <tbody>\n",
       "    <tr>\n",
       "      <th>0</th>\n",
       "      <td>0.121595</td>\n",
       "      <td>7.44085</td>\n",
       "      <td>7.04129</td>\n",
       "      <td>9.0</td>\n",
       "      <td>2.0</td>\n",
       "      <td>0.0</td>\n",
       "      <td>0.0</td>\n",
       "      <td>0.0</td>\n",
       "      <td>0.0</td>\n",
       "      <td>1.0</td>\n",
       "      <td>1.0</td>\n",
       "      <td>0.0</td>\n",
       "      <td>0.0</td>\n",
       "      <td>0.0</td>\n",
       "      <td>0.0</td>\n",
       "      <td>0.0</td>\n",
       "      <td>0.0</td>\n",
       "      <td>0.0</td>\n",
       "      <td>26.032</td>\n",
       "      <td>141.935</td>\n",
       "      <td>10.0</td>\n",
       "      <td>161.6</td>\n",
       "      <td>0.86</td>\n",
       "    </tr>\n",
       "  </tbody>\n",
       "</table>\n",
       "</div>"
      ],
      "text/plain": [
       "   impute_mean__magError  impute_mean__horizontalError  \\\n",
       "0               0.121595                       7.44085   \n",
       "\n",
       "   impute_mean__depthError  impute_median__nst  impute_median__magNst  \\\n",
       "0                  7.04129                 9.0                    2.0   \n",
       "\n",
       "   impute_constant__dmin  one_hot_encode__magSource_gcmt  \\\n",
       "0                    0.0                             0.0   \n",
       "\n",
       "   one_hot_encode__magSource_nied  one_hot_encode__magSource_official  \\\n",
       "0                             0.0                                 0.0   \n",
       "\n",
       "   one_hot_encode__magSource_us  one_hot_encode__magType_mb  \\\n",
       "0                           1.0                         1.0   \n",
       "\n",
       "   one_hot_encode__magType_mb_lg  one_hot_encode__magType_ml  \\\n",
       "0                            0.0                         0.0   \n",
       "\n",
       "   one_hot_encode__magType_ms  one_hot_encode__magType_mwb  \\\n",
       "0                         0.0                          0.0   \n",
       "\n",
       "   one_hot_encode__magType_mwc  one_hot_encode__magType_mwr  \\\n",
       "0                          0.0                          0.0   \n",
       "\n",
       "   one_hot_encode__magType_mww  remainder__latitude  remainder__longitude  \\\n",
       "0                          0.0               26.032               141.935   \n",
       "\n",
       "   remainder__depth  remainder__gap  remainder__rms  \n",
       "0              10.0           161.6            0.86  "
      ]
     },
     "execution_count": 80,
     "metadata": {},
     "output_type": "execute_result"
    }
   ],
   "source": [
    "#better understanding the model input -- arrangement is important \n",
    "X.head(1)\n"
   ]
  },
  {
   "cell_type": "code",
   "execution_count": 81,
   "metadata": {},
   "outputs": [
    {
     "data": {
      "text/plain": [
       "0    0.86\n",
       "1    0.55\n",
       "2    0.80\n",
       "Name: remainder__rms, dtype: float64"
      ]
     },
     "execution_count": 81,
     "metadata": {},
     "output_type": "execute_result"
    }
   ],
   "source": [
    "#decided user input to the model \n",
    "X.iloc[:3,22]"
   ]
  },
  {
   "attachments": {},
   "cell_type": "markdown",
   "metadata": {},
   "source": [
    "## Saving the model and data conversion to json "
   ]
  },
  {
   "attachments": {},
   "cell_type": "markdown",
   "metadata": {},
   "source": [
    "Train the model on whole dataset for better performance"
   ]
  },
  {
   "cell_type": "code",
   "execution_count": 88,
   "metadata": {},
   "outputs": [
    {
     "name": "stdout",
     "output_type": "stream",
     "text": [
      "Mean Squared Error: 0.0013184572511541182\n",
      "Model trained and saved successfully.\n"
     ]
    }
   ],
   "source": [
    "# Function to train the model\n",
    "def train_model(X, y):\n",
    "\n",
    "    # Train a linear regression model\n",
    "    model = tree_model\n",
    "    model.fit(X, y)\n",
    "\n",
    "    # Make predictions on the test set\n",
    "    predictions = model.predict(X_test)\n",
    "\n",
    "    # Evaluate the model\n",
    "    mse = mean_squared_error(y_test, predictions)\n",
    "    print(f'Mean Squared Error: {mse}')\n",
    "\n",
    "    # Save the trained model to a file\n",
    "    joblib.dump(model, 'tree_model.joblib')\n",
    "\n",
    "    print('Model trained and saved successfully.')\n",
    "train_model(X,y)"
   ]
  },
  {
   "cell_type": "markdown",
   "metadata": {},
   "source": [
    "## Feature Importance "
   ]
  },
  {
   "cell_type": "code",
   "execution_count": 101,
   "metadata": {},
   "outputs": [
    {
     "data": {
      "image/png": "[encoded data removed]",
      "text/plain": [
       "<Figure size 1800x1000 with 1 Axes>"
      ]
     },
     "metadata": {},
     "output_type": "display_data"
    }
   ],
   "source": [
    "# Create a RandomForestRegressor\n",
    "clf_rf = RandomForestRegressor()\n",
    "clr_rf = clf_rf.fit(X, y)\n",
    "\n",
    "# Get feature importances\n",
    "importances = clr_rf.feature_importances_\n",
    "indices = np.argsort(importances)[::-1]\n",
    "std = np.std([tree.feature_importances_ for tree in clf_rf.estimators_],axis=0)\n",
    "# Plot the feature importances\n",
    "plt.figure(figsize=(18, 10))\n",
    "plt.title(\"Feature Importances\")\n",
    "plt.bar(range(X.shape[1]), importances[indices], color=\"b\", yerr=std[indices],align=\"center\")\n",
    "plt.xticks(range(X.shape[1]), X.columns, rotation=90)\n",
    "plt.xlabel(\"Feature Index\")\n",
    "plt.ylabel(\"Feature Importance\")\n",
    "plt.xlim([-1, X.shape[1]])\n",
    "plt.show()"
   ]
  },
  {
   "cell_type": "code",
   "execution_count": 99,
   "metadata": {},
   "outputs": [
    {
     "data": {
      "image/png": "[encoded data removed]",
      "text/plain": [
       "<Figure size 1800x1000 with 1 Axes>"
      ]
     },
     "metadata": {},
     "output_type": "display_data"
    }
   ],
   "source": [
    "# Create a RandomForestRegressor\n",
    "clf_rf = RandomForestRegressor()\n",
    "clr_rf = clf_rf.fit(X, y)\n",
    "\n",
    "# Get feature importances\n",
    "importances = clr_rf.feature_importances_\n",
    "indices = np.argsort(importances)[::-1]\n",
    "\n",
    "# Plot the feature importances\n",
    "plt.figure(figsize=(18, 10))\n",
    "plt.title(\"Feature Importances\")\n",
    "plt.bar(range(X.shape[1]), importances[indices], color=\"b\", align=\"center\")\n",
    "plt.xticks(range(X.shape[1]), indices, rotation=45)\n",
    "plt.xlabel(\"Feature Index\")\n",
    "plt.ylabel(\"Feature Importance\")\n",
    "plt.xlim([-1, X.shape[1]])\n",
    "plt.show()"
   ]
  },
  {
   "attachments": {},
   "cell_type": "markdown",
   "metadata": {},
   "source": [
    "curl -X POST http://localhost:8000/predict -H \"Content-Type: application/json\" -d '{\"magError\": 1, \"horizontalError\": 2, \"depthError\": 3, \"nst\": 4,\n",
    " \"magNst\": 5, \"dmin\": 6, \"gcmt\": 7, \"nied\": 8,\n",
    "  \"official\": 9, \"us\": 10, \"mb\": 11, \"mb_lg\": 12, \n",
    "  \"ml\": 13, \"ms\": 14, \"mwb\": 15, \"mwc\": 16,\n",
    "   \"mwr\": 17, \"mww\": 18, \"lat\": 19, \"lon\": 20, \n",
    "   \"depth\": 21, \"gap\": 22, \"rms\": 23}'\n"
   ]
  },
  {
   "cell_type": "code",
   "execution_count": null,
   "metadata": {},
   "outputs": [],
   "source": [
    "# you can use postman for testing your request ans model respone \n",
    "# the flutter app part in requesting from the model form wezza\n",
    "# code in whats app \n",
    "# "
   ]
  }
 ],
 "metadata": {
  "kernelspec": {
   "display_name": "base",
   "language": "python",
   "name": "python3"
  },
  "language_info": {
   "codemirror_mode": {
    "name": "ipython",
    "version": 3
   },
   "file_extension": ".py",
   "mimetype": "text/x-python",
   "name": "python",
   "nbconvert_exporter": "python",
   "pygments_lexer": "ipython3",
   "version": "3.11.5"
  },
  "orig_nbformat": 4
 },
 "nbformat": 4,
 "nbformat_minor": 2
}
